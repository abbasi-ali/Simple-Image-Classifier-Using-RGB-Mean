{
 "cells": [
  {
   "cell_type": "code",
   "execution_count": 77,
   "metadata": {},
   "outputs": [],
   "source": [
    "import numpy as np\n",
    "from PIL import Image\n",
    "import os"
   ]
  },
  {
   "cell_type": "code",
   "execution_count": 78,
   "metadata": {},
   "outputs": [
    {
     "name": "stdout",
     "output_type": "stream",
     "text": [
      "['c1.jpg', 'c10.jpg', 'c11.jpg', 'c12.jpg', 'c13.jpg', 'c14.jpg', 'c15.jpg', 'c16.jpg', 'c17.jpg', 'c18.jpg', 'c19.jpg', 'c2.jpg', 'c20.jpg', 'c21.jpg', 'c22.jpg', 'c23.jpg', 'c24.jpg', 'c25.jpg', 'c26.jpg', 'c27.jpg', 'c28.jpg', 'c29.jpg', 'c3.jpg', 'c30.jpg', 'c31.jpg', 'c32.jpg', 'c33.jpg', 'c34.jpg', 'c35.jpg', 'c36.jpg', 'c37.jpg', 'c38.jpg', 'c39.jpg', 'c4.jpg', 'c40.jpg', 'c41.jpg', 'c42.jpg', 'c43.jpg', 'c44.jpg', 'c45.jpg', 'c46.jpg', 'c47.jpg', 'c48.jpg', 'c49.jpg', 'c5.jpg', 'c50.jpg', 'c51.jpg', 'c52.jpg', 'c53.jpg', 'c54.jpg', 'c55.jpg', 'c56.jpg', 'c57.jpg', 'c58.jpg', 'c59.jpg', 'c6.jpg', 'c60.jpg', 'c61.jpg', 'c64.jpg', 'c65.jpg', 'c7.jpg', 'c8.jpg', 'c9.jpg', 'images.jpg', 'index.jpg', 'm1.jpg', 'm100.jpg', 'm11.jpg', 'm12.jpg', 'm13.jpg', 'm14.jpg', 'm15.jpg', 'm16.jpg', 'm17.jpg', 'm18.jpg', 'm19.jpg', 'm2.jpg', 'm20.jpg', 'm21.jpg', 'm22.jpg', 'm23.jpg', 'm24.jpg', 'm25.jpg', 'm26.jpg', 'm27.jpg', 'm28.jpg', 'm29.jpg', 'm3.jpg', 'm30.jpg', 'm31.jpg', 'm32.jpg', 'm33.jpg', 'm34.jpg', 'm38.jpg', 'm39.jpg', 'm4.jpg', 'm40.jpg', 'm41.jpg', 'm42.jpg', 'm43.jpg', 'm44.jpg', 'm45.jpg', 'm46.jpg', 'm47.jpg', 'm48.jpg', 'm49.jpg', 'm50.jpg', 'm51.jpg', 'm52.jpg', 'm53.jpg', 'm54.jpg', 'm55.jpg', 'm56.jpg', 'm57.jpg', 'm58.jpg', 'm59.jpg', 'm60.jpg', 'm61.jpg', 'm62.jpg', 'm63.jpg', 'm9.jpg', 'ManUtd-508878051576073641743_medium.jpg']\n"
     ]
    }
   ],
   "source": [
    "filenames = os.listdir('././Q6_Dataset/Images/')\n",
    "print(filenames)"
   ]
  },
  {
   "cell_type": "code",
   "execution_count": 79,
   "metadata": {},
   "outputs": [],
   "source": [
    "preds = []\n",
    "for fn in filenames:\n",
    "    im = Image.open(file_add + fn)\n",
    "    im = np.asarray(im)\n",
    "    means = np.array([im[:, :, i].mean() for i in range(3)])\n",
    "    r_diff = means - np.array([255, 0, 0])\n",
    "    b_diff = means - np.array([0, 0, 255])\n",
    "    \n",
    "    if (np.linalg.norm(r_diff, ord=2) < np.linalg.norm(b_diff, ord=2)):\n",
    "        preds.append('m')\n",
    "    else:\n",
    "        preds.append('c')\n",
    "        \n",
    "\n"
   ]
  },
  {
   "cell_type": "code",
   "execution_count": 80,
   "metadata": {},
   "outputs": [
    {
     "name": "stdout",
     "output_type": "stream",
     "text": [
      "accuracy = 82.78688524590164%\n",
      "correct classification = 101\n",
      "confusion_matrix=\n",
      "[[56 18]\n",
      " [ 1 45]]\n"
     ]
    }
   ],
   "source": [
    "tm = 0\n",
    "fm = 0\n",
    "tc = 0\n",
    "fc = 0\n",
    "for cnt in range(len(filenames)):\n",
    "    if ((filenames[cnt][0]).lower() == 'm' and preds[cnt]=='m'):\n",
    "        tm += 1\n",
    "    \n",
    "    if ((filenames[cnt][0]).lower() == 'c' and preds[cnt]=='c'):\n",
    "        tc += 1\n",
    "    \n",
    "    if ((filenames[cnt][0]).lower() == 'c' and preds[cnt]=='m'):\n",
    "        fm += 1\n",
    "    \n",
    "    if ((filenames[cnt][0]).lower() == 'm' and preds[cnt]=='c'):\n",
    "        fc += 1\n",
    "\n",
    "accu = float((tm + tc)/(len(filenames))) * 100\n",
    "correct_class = tm + tc \n",
    "\n",
    "confusion_matrix = np.array([[tm, fm], [fc, tc]])\n",
    "\n",
    "print('accuracy = {}%'.format(accu))    \n",
    "print('correct classification = {}'.format(correct_class))    \n",
    "print('confusion_matrix=')\n",
    "print(confusion_matrix)\n",
    "\n",
    "        "
   ]
  },
  {
   "cell_type": "code",
   "execution_count": null,
   "metadata": {},
   "outputs": [],
   "source": []
  }
 ],
 "metadata": {
  "kernelspec": {
   "display_name": "Python 3",
   "language": "python",
   "name": "python3"
  },
  "language_info": {
   "codemirror_mode": {
    "name": "ipython",
    "version": 3
   },
   "file_extension": ".py",
   "mimetype": "text/x-python",
   "name": "python",
   "nbconvert_exporter": "python",
   "pygments_lexer": "ipython3",
   "version": "3.8.3"
  }
 },
 "nbformat": 4,
 "nbformat_minor": 4
}
